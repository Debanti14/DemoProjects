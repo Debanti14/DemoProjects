{
 "cells": [
  {
   "cell_type": "code",
   "execution_count": 1,
   "id": "a72181a8",
   "metadata": {},
   "outputs": [
    {
     "name": "stdout",
     "output_type": "stream",
     "text": [
      "(0, 'Naveen')\n",
      "(1, 'Rathna')\n",
      "(2, 'Vivian')\n",
      "(3, 'Shridhar')\n",
      "(4, 'Chintu')\n",
      "(5, 'Chinnu')\n"
     ]
    }
   ],
   "source": [
    "students=['Naveen','Rathna','Vivian','Shridhar','Chintu','Chinnu']  #enumerate\n",
    "for name in enumerate(students):\n",
    "    print(name)"
   ]
  },
  {
   "cell_type": "code",
   "execution_count": 6,
   "id": "cf1e487e",
   "metadata": {},
   "outputs": [
    {
     "ename": "SyntaxError",
     "evalue": "invalid syntax (Temp/ipykernel_15900/722785676.py, line 1)",
     "output_type": "error",
     "traceback": [
      "\u001b[1;36m  File \u001b[1;32m\"C:\\Users\\HP\\AppData\\Local\\Temp/ipykernel_15900/722785676.py\"\u001b[1;36m, line \u001b[1;32m1\u001b[0m\n\u001b[1;33m    for i, name in enumerate(students,1)\u001b[0m\n\u001b[1;37m                                        ^\u001b[0m\n\u001b[1;31mSyntaxError\u001b[0m\u001b[1;31m:\u001b[0m invalid syntax\n"
     ]
    }
   ],
   "source": [
    "for i, name in enumerate(students,1)\n",
    "print(i,name)"
   ]
  },
  {
   "cell_type": "code",
   "execution_count": 7,
   "id": "f104cb15",
   "metadata": {},
   "outputs": [
    {
     "data": {
      "text/plain": [
       "[('Naveen', 53),\n",
       " ('Rathna', 74),\n",
       " ('Vivian', 62),\n",
       " ('Shridhar', 81),\n",
       " ('Chintu', 55),\n",
       " ('Chinnu', 86)]"
      ]
     },
     "execution_count": 7,
     "metadata": {},
     "output_type": "execute_result"
    }
   ],
   "source": [
    "students_name=['Naveen','Rathna','Vivian','Shridhar','Chintu','Chinnu']  #zip\n",
    "students_marks=[53,74,62,81,55,86]\n",
    "students_details=list(zip(students_name,students_marks))\n",
    "students_details"
   ]
  },
  {
   "cell_type": "code",
   "execution_count": 8,
   "id": "b56f0a78",
   "metadata": {},
   "outputs": [
    {
     "data": {
      "text/plain": [
       "('Naveen', 'Rathna', 'Vivian', 'Shridhar', 'Chintu', 'Chinnu')"
      ]
     },
     "execution_count": 8,
     "metadata": {},
     "output_type": "execute_result"
    }
   ],
   "source": [
    "name,marks_num=zip(*students_details)  #unzip\n",
    "name"
   ]
  },
  {
   "cell_type": "code",
   "execution_count": 9,
   "id": "ba1ae2af",
   "metadata": {},
   "outputs": [
    {
     "data": {
      "text/plain": [
       "(53, 74, 62, 81, 55, 86)"
      ]
     },
     "execution_count": 9,
     "metadata": {},
     "output_type": "execute_result"
    }
   ],
   "source": [
    "marks_num"
   ]
  },
  {
   "cell_type": "code",
   "execution_count": 10,
   "id": "7d7e9e02",
   "metadata": {},
   "outputs": [
    {
     "name": "stdout",
     "output_type": "stream",
     "text": [
      "1 Naveen 53\n",
      "2 Rathna 74\n",
      "3 Vivian 62\n",
      "4 Shridhar 81\n",
      "5 Chintu 55\n",
      "6 Chinnu 86\n"
     ]
    }
   ],
   "source": [
    "students_name=['Naveen','Rathna','Vivian','Shridhar','Chintu','Chinnu']\n",
    "students_marks=[53,74,62,81,55,86]\n",
    "\n",
    "for i,(name,marks) in enumerate (zip(students_name,students_marks),1):\n",
    "    print(i,name,marks)"
   ]
  },
  {
   "cell_type": "code",
   "execution_count": null,
   "id": "f024b7f7",
   "metadata": {},
   "outputs": [],
   "source": []
  }
 ],
 "metadata": {
  "kernelspec": {
   "display_name": "Python 3 (ipykernel)",
   "language": "python",
   "name": "python3"
  },
  "language_info": {
   "codemirror_mode": {
    "name": "ipython",
    "version": 3
   },
   "file_extension": ".py",
   "mimetype": "text/x-python",
   "name": "python",
   "nbconvert_exporter": "python",
   "pygments_lexer": "ipython3",
   "version": "3.9.7"
  }
 },
 "nbformat": 4,
 "nbformat_minor": 5
}
