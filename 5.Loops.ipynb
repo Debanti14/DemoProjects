{
 "cells": [
  {
   "cell_type": "code",
   "execution_count": 2,
   "id": "078a169d",
   "metadata": {},
   "outputs": [
    {
     "name": "stdout",
     "output_type": "stream",
     "text": [
      "It is less than 10\n"
     ]
    }
   ],
   "source": [
    "i=8\n",
    "if i<10:\n",
    "    print('It is less than 10')\n",
    "    \n",
    "else:\n",
    "    print('It is something else')"
   ]
  },
  {
   "cell_type": "code",
   "execution_count": 3,
   "id": "66cd3bf9",
   "metadata": {},
   "outputs": [
    {
     "name": "stdout",
     "output_type": "stream",
     "text": [
      "It is less than 10\n"
     ]
    }
   ],
   "source": [
    "print('It is less than 10') if i<10 else print ('It is something else')"
   ]
  },
  {
   "cell_type": "code",
   "execution_count": 4,
   "id": "2e5d0e3d",
   "metadata": {},
   "outputs": [
    {
     "name": "stdout",
     "output_type": "stream",
     "text": [
      "Please add 100 Rs for free shipping\n"
     ]
    }
   ],
   "source": [
    "item_1=200\n",
    "item_2=200\n",
    "if(item_1+item_2)>=500:\n",
    "    print(\"Your items are eligible for free shipping\")\n",
    "else:\n",
    "    extra=500-(item_1+item_2)\n",
    "    print('Please add', extra, 'Rs for free shipping')"
   ]
  },
  {
   "cell_type": "code",
   "execution_count": 6,
   "id": "8f561fb3",
   "metadata": {},
   "outputs": [
    {
     "name": "stdout",
     "output_type": "stream",
     "text": [
      "Both are not True\n"
     ]
    }
   ],
   "source": [
    "a=200\n",
    "b=30\n",
    "c=500\n",
    "if a>b and c<a:\n",
    "    print(\"Both conditions are True\")\n",
    "else:\n",
    "    print(\"Both are not True\")"
   ]
  },
  {
   "cell_type": "code",
   "execution_count": 7,
   "id": "29222c2f",
   "metadata": {},
   "outputs": [
    {
     "ename": "IndentationError",
     "evalue": "expected an indented block (Temp/ipykernel_7004/1012627075.py, line 3)",
     "output_type": "error",
     "traceback": [
      "\u001b[1;36m  File \u001b[1;32m\"C:\\Users\\HP\\AppData\\Local\\Temp/ipykernel_7004/1012627075.py\"\u001b[1;36m, line \u001b[1;32m3\u001b[0m\n\u001b[1;33m    i1=i+1\u001b[0m\n\u001b[1;37m    ^\u001b[0m\n\u001b[1;31mIndentationError\u001b[0m\u001b[1;31m:\u001b[0m expected an indented block\n"
     ]
    }
   ],
   "source": [
    "i=0\n",
    "while i<10:\n",
    "i1=i+1\n",
    "print(i1, \"Datatrained\")"
   ]
  },
  {
   "cell_type": "code",
   "execution_count": 9,
   "id": "5a73594f",
   "metadata": {},
   "outputs": [],
   "source": [
    "a=200\n",
    "b=30\n",
    "c=500\n",
    "if a>b and c<a:\n",
    "    print ('Atleast one of the conditions is true')"
   ]
  },
  {
   "cell_type": "code",
   "execution_count": 1,
   "id": "48bf3ed1",
   "metadata": {},
   "outputs": [
    {
     "ename": "SyntaxError",
     "evalue": "invalid syntax (Temp/ipykernel_12868/1321359501.py, line 7)",
     "output_type": "error",
     "traceback": [
      "\u001b[1;36m  File \u001b[1;32m\"C:\\Users\\HP\\AppData\\Local\\Temp/ipykernel_12868/1321359501.py\"\u001b[1;36m, line \u001b[1;32m7\u001b[0m\n\u001b[1;33m    elif marks>50 and marks<=60:\u001b[0m\n\u001b[1;37m    ^\u001b[0m\n\u001b[1;31mSyntaxError\u001b[0m\u001b[1;31m:\u001b[0m invalid syntax\n"
     ]
    }
   ],
   "source": [
    "marks=48\n",
    "if marks>60:\n",
    "    if marks>70:\n",
    "        print('Distinction')\n",
    "    else:\n",
    "         print('First class')\n",
    "    elif marks>50 and marks<=60:\n",
    "        print('Second class')\n",
    "         elif marks>35:\n",
    "            print('Pass')\n",
    "               else:\n",
    "                print('Fail-Better luck next time')"
   ]
  },
  {
   "cell_type": "code",
   "execution_count": 3,
   "id": "7e67bf5a",
   "metadata": {},
   "outputs": [
    {
     "name": "stdout",
     "output_type": "stream",
     "text": [
      "Its greater than 25\n"
     ]
    }
   ],
   "source": [
    "num1=20\n",
    "num2=30\n",
    "if num1=='20':\n",
    "    print('Its not 20')\n",
    "    \n",
    "elif num2>25:\n",
    "    print('Its greater than 25')"
   ]
  },
  {
   "cell_type": "code",
   "execution_count": null,
   "id": "c6fc0df8",
   "metadata": {},
   "outputs": [],
   "source": []
  }
 ],
 "metadata": {
  "kernelspec": {
   "display_name": "Python 3 (ipykernel)",
   "language": "python",
   "name": "python3"
  },
  "language_info": {
   "codemirror_mode": {
    "name": "ipython",
    "version": 3
   },
   "file_extension": ".py",
   "mimetype": "text/x-python",
   "name": "python",
   "nbconvert_exporter": "python",
   "pygments_lexer": "ipython3",
   "version": "3.9.7"
  }
 },
 "nbformat": 4,
 "nbformat_minor": 5
}
