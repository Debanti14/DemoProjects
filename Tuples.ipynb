{
 "cells": [
  {
   "cell_type": "code",
   "execution_count": 1,
   "id": "61f6dfb6",
   "metadata": {},
   "outputs": [
    {
     "data": {
      "text/plain": [
       "('Bengaluru', 'Noida', 'Chennai', 'Delhi')"
      ]
     },
     "execution_count": 1,
     "metadata": {},
     "output_type": "execute_result"
    }
   ],
   "source": [
    "work_location=('Bengaluru','Noida','Chennai','Delhi')\n",
    "work_location"
   ]
  },
  {
   "cell_type": "code",
   "execution_count": 2,
   "id": "67f4d538",
   "metadata": {},
   "outputs": [
    {
     "data": {
      "text/plain": [
       "tuple"
      ]
     },
     "execution_count": 2,
     "metadata": {},
     "output_type": "execute_result"
    }
   ],
   "source": [
    "type(work_location)"
   ]
  },
  {
   "cell_type": "code",
   "execution_count": 3,
   "id": "2d583025",
   "metadata": {},
   "outputs": [
    {
     "ename": "AttributeError",
     "evalue": "'tuple' object has no attribute 'append'",
     "output_type": "error",
     "traceback": [
      "\u001b[1;31m---------------------------------------------------------------------------\u001b[0m",
      "\u001b[1;31mAttributeError\u001b[0m                            Traceback (most recent call last)",
      "\u001b[1;32m~\\AppData\\Local\\Temp/ipykernel_12324/1274943685.py\u001b[0m in \u001b[0;36m<module>\u001b[1;34m\u001b[0m\n\u001b[1;32m----> 1\u001b[1;33m \u001b[0mwork_location\u001b[0m\u001b[1;33m.\u001b[0m\u001b[0mappend\u001b[0m\u001b[1;33m(\u001b[0m\u001b[1;34m'Hyderabad'\u001b[0m\u001b[1;33m)\u001b[0m\u001b[1;33m\u001b[0m\u001b[1;33m\u001b[0m\u001b[0m\n\u001b[0m",
      "\u001b[1;31mAttributeError\u001b[0m: 'tuple' object has no attribute 'append'"
     ]
    }
   ],
   "source": [
    "work_location.append('Hyderabad')"
   ]
  },
  {
   "cell_type": "code",
   "execution_count": 7,
   "id": "4d5f2931",
   "metadata": {},
   "outputs": [
    {
     "data": {
      "text/plain": [
       "['Bengaluru', 'Kolkata', 'Chennai', 'Delhi', 'Hyderabad', 'Hyderabad']"
      ]
     },
     "execution_count": 7,
     "metadata": {},
     "output_type": "execute_result"
    }
   ],
   "source": [
    "work_location=list(work_location)\n",
    "work_location.append('Hyderabad')\n",
    "work_location"
   ]
  },
  {
   "cell_type": "code",
   "execution_count": 8,
   "id": "bbdc5f74",
   "metadata": {},
   "outputs": [
    {
     "data": {
      "text/plain": [
       "('Bengaluru', 'Kolkata', 'Chennai', 'Delhi', 'Hyderabad', 'Hyderabad')"
      ]
     },
     "execution_count": 8,
     "metadata": {},
     "output_type": "execute_result"
    }
   ],
   "source": [
    "work_location[1]='Kolkata'\n",
    "work_location=tuple(work_location)\n",
    "work_location"
   ]
  },
  {
   "cell_type": "code",
   "execution_count": 11,
   "id": "724ae39f",
   "metadata": {},
   "outputs": [
    {
     "data": {
      "text/plain": [
       "{1, 2}"
      ]
     },
     "execution_count": 11,
     "metadata": {},
     "output_type": "execute_result"
    }
   ],
   "source": [
    "roll_numbers=set()\n",
    "roll_numbers.add(1)\n",
    "roll_numbers.add(2)\n",
    "roll_numbers.add(1)\n",
    "roll_numbers"
   ]
  },
  {
   "cell_type": "code",
   "execution_count": 12,
   "id": "05619111",
   "metadata": {},
   "outputs": [
    {
     "data": {
      "text/plain": [
       "{1, 2, 3, 4, 5, 6, 8, 9}"
      ]
     },
     "execution_count": 12,
     "metadata": {},
     "output_type": "execute_result"
    }
   ],
   "source": [
    "remove_dups=[8,5,6,9,1,1,2,2,3,4,5,6,1,1]\n",
    "set(remove_dups)"
   ]
  },
  {
   "cell_type": "code",
   "execution_count": 13,
   "id": "f647baa5",
   "metadata": {},
   "outputs": [],
   "source": [
    "my_dict={'key 1':'value 1', 'key 2':'value 2'}"
   ]
  },
  {
   "cell_type": "code",
   "execution_count": 14,
   "id": "62263a37",
   "metadata": {},
   "outputs": [
    {
     "data": {
      "text/plain": [
       "'value 2'"
      ]
     },
     "execution_count": 14,
     "metadata": {},
     "output_type": "execute_result"
    }
   ],
   "source": [
    "my_dict[\"key 2\"]"
   ]
  },
  {
   "cell_type": "code",
   "execution_count": 20,
   "id": "2f48d754",
   "metadata": {},
   "outputs": [
    {
     "data": {
      "text/plain": [
       "['Computer', 'Science', 'Maths']"
      ]
     },
     "execution_count": 20,
     "metadata": {},
     "output_type": "execute_result"
    }
   ],
   "source": [
    "my_dict={'Roll_number':123,'Marks':[12,23,33], 'subject':['Computer','Science','Maths']}\n",
    "my_dict['subject']"
   ]
  },
  {
   "cell_type": "code",
   "execution_count": 16,
   "id": "59d14812",
   "metadata": {},
   "outputs": [
    {
     "data": {
      "text/plain": [
       "'Maths'"
      ]
     },
     "execution_count": 16,
     "metadata": {},
     "output_type": "execute_result"
    }
   ],
   "source": [
    "my_dict['subject'][2]"
   ]
  },
  {
   "cell_type": "code",
   "execution_count": 17,
   "id": "8f9b2a3a",
   "metadata": {},
   "outputs": [
    {
     "data": {
      "text/plain": [
       "'COMPUTER'"
      ]
     },
     "execution_count": 17,
     "metadata": {},
     "output_type": "execute_result"
    }
   ],
   "source": [
    "my_dict['subject'][0].upper()"
   ]
  },
  {
   "cell_type": "code",
   "execution_count": 1,
   "id": "5f144213",
   "metadata": {},
   "outputs": [
    {
     "ename": "NameError",
     "evalue": "name 'my' is not defined",
     "output_type": "error",
     "traceback": [
      "\u001b[1;31m---------------------------------------------------------------------------\u001b[0m",
      "\u001b[1;31mNameError\u001b[0m                                 Traceback (most recent call last)",
      "\u001b[1;32m~\\AppData\\Local\\Temp/ipykernel_13568/373361563.py\u001b[0m in \u001b[0;36m<module>\u001b[1;34m\u001b[0m\n\u001b[0;32m      1\u001b[0m \u001b[0mmy_dict\u001b[0m\u001b[1;33m=\u001b[0m\u001b[1;33m{\u001b[0m\u001b[1;34m'Roll_number'\u001b[0m\u001b[1;33m:\u001b[0m\u001b[1;36m123\u001b[0m\u001b[1;33m,\u001b[0m\u001b[1;34m'Marks'\u001b[0m\u001b[1;33m:\u001b[0m\u001b[1;33m[\u001b[0m\u001b[1;36m12\u001b[0m\u001b[1;33m,\u001b[0m\u001b[1;36m23\u001b[0m\u001b[1;33m,\u001b[0m\u001b[1;36m33\u001b[0m\u001b[1;33m]\u001b[0m\u001b[1;33m,\u001b[0m \u001b[1;34m'subject'\u001b[0m\u001b[1;33m:\u001b[0m\u001b[1;33m[\u001b[0m\u001b[1;34m'Computer'\u001b[0m\u001b[1;33m,\u001b[0m\u001b[1;34m'Science'\u001b[0m\u001b[1;33m,\u001b[0m\u001b[1;34m'Maths'\u001b[0m\u001b[1;33m]\u001b[0m\u001b[1;33m}\u001b[0m\u001b[1;33m\u001b[0m\u001b[1;33m\u001b[0m\u001b[0m\n\u001b[0;32m      2\u001b[0m \u001b[0mmy_dict\u001b[0m\u001b[1;33m[\u001b[0m\u001b[1;34m'subject'\u001b[0m\u001b[1;33m]\u001b[0m\u001b[1;33m\u001b[0m\u001b[1;33m\u001b[0m\u001b[0m\n\u001b[1;32m----> 3\u001b[1;33m \u001b[0mmy_dict\u001b[0m\u001b[1;33m[\u001b[0m\u001b[1;34m'Marks'\u001b[0m\u001b[1;33m]\u001b[0m\u001b[1;33m[\u001b[0m\u001b[1;36m0\u001b[0m\u001b[1;33m]\u001b[0m\u001b[1;33m=\u001b[0m\u001b[0mmy\u001b[0m\u001b[1;33m.\u001b[0m\u001b[0mdict\u001b[0m\u001b[1;33m[\u001b[0m\u001b[1;34m'Marks'\u001b[0m\u001b[1;33m]\u001b[0m\u001b[1;33m[\u001b[0m\u001b[1;36m0\u001b[0m\u001b[1;33m]\u001b[0m\u001b[1;33m+\u001b[0m\u001b[1;36m30\u001b[0m\u001b[1;33m\u001b[0m\u001b[1;33m\u001b[0m\u001b[0m\n\u001b[0m\u001b[0;32m      4\u001b[0m \u001b[0mmy_dict\u001b[0m\u001b[1;33m[\u001b[0m\u001b[1;34m'Marks'\u001b[0m\u001b[1;33m]\u001b[0m\u001b[1;33m\u001b[0m\u001b[1;33m\u001b[0m\u001b[0m\n",
      "\u001b[1;31mNameError\u001b[0m: name 'my' is not defined"
     ]
    }
   ],
   "source": [
    "my_dict={'Roll_number':123,'Marks':[12,23,33], 'subject':['Computer','Science','Maths']}\n",
    "my_dict['subject']\n",
    "my_dict['Marks'][0]=my.dict['Marks'][0]+30\n",
    "my_dict['Marks']"
   ]
  },
  {
   "cell_type": "code",
   "execution_count": 2,
   "id": "64734966",
   "metadata": {},
   "outputs": [
    {
     "data": {
      "text/plain": [
       "[12, 23, 53]"
      ]
     },
     "execution_count": 2,
     "metadata": {},
     "output_type": "execute_result"
    }
   ],
   "source": [
    "my_dict['Marks'][2]+=20\n",
    "my_dict['Marks']"
   ]
  },
  {
   "cell_type": "code",
   "execution_count": 3,
   "id": "91d2a940",
   "metadata": {},
   "outputs": [],
   "source": [
    "my_dict['Year']='3rd'"
   ]
  },
  {
   "cell_type": "code",
   "execution_count": 4,
   "id": "c5371332",
   "metadata": {},
   "outputs": [],
   "source": [
    "my_dict.update({'Roll_number': 100})"
   ]
  },
  {
   "cell_type": "code",
   "execution_count": null,
   "id": "7ebf816c",
   "metadata": {},
   "outputs": [],
   "source": []
  }
 ],
 "metadata": {
  "kernelspec": {
   "display_name": "Python 3 (ipykernel)",
   "language": "python",
   "name": "python3"
  },
  "language_info": {
   "codemirror_mode": {
    "name": "ipython",
    "version": 3
   },
   "file_extension": ".py",
   "mimetype": "text/x-python",
   "name": "python",
   "nbconvert_exporter": "python",
   "pygments_lexer": "ipython3",
   "version": "3.9.7"
  }
 },
 "nbformat": 4,
 "nbformat_minor": 5
}
