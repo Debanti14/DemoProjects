{
 "cells": [
  {
   "cell_type": "code",
   "execution_count": 1,
   "id": "93972176",
   "metadata": {},
   "outputs": [
    {
     "name": "stdout",
     "output_type": "stream",
     "text": [
      "['Bengaluru', 'Noida', 'Chennai', 'Hyderabad', 'Delhi']\n"
     ]
    }
   ],
   "source": [
    "location=['Bengaluru','Noida','Chennai','Hyderabad','Delhi']\n",
    "print(location)"
   ]
  },
  {
   "cell_type": "code",
   "execution_count": 2,
   "id": "e0c5bb9e",
   "metadata": {},
   "outputs": [
    {
     "name": "stdout",
     "output_type": "stream",
     "text": [
      "Bengaluru\n",
      "Noida\n",
      "Chennai\n",
      "Hyderabad\n",
      "Delhi\n"
     ]
    }
   ],
   "source": [
    "location=['Bengaluru','Noida','Chennai','Hyderabad','Delhi']\n",
    "for i in location:\n",
    "    print(i)"
   ]
  },
  {
   "cell_type": "code",
   "execution_count": 6,
   "id": "6595cb3e",
   "metadata": {},
   "outputs": [
    {
     "name": "stdout",
     "output_type": "stream",
     "text": [
      "7000\n",
      "8000\n"
     ]
    }
   ],
   "source": [
    "salary=[2000,4000,5000,7000,8000,4500,3800]\n",
    "for val in salary:\n",
    "      if val>5500:\n",
    "        print(val)"
   ]
  },
  {
   "cell_type": "code",
   "execution_count": 7,
   "id": "ca683ad8",
   "metadata": {},
   "outputs": [
    {
     "data": {
      "text/plain": [
       "[7000, 8000]"
      ]
     },
     "execution_count": 7,
     "metadata": {},
     "output_type": "execute_result"
    }
   ],
   "source": [
    "sal=[val for val in salary if val>5500]  #List comprehension\n",
    "sal"
   ]
  },
  {
   "cell_type": "code",
   "execution_count": 9,
   "id": "086f8f2d",
   "metadata": {},
   "outputs": [
    {
     "ename": "SyntaxError",
     "evalue": "invalid syntax (Temp/ipykernel_5140/1365297850.py, line 8)",
     "output_type": "error",
     "traceback": [
      "\u001b[1;36m  File \u001b[1;32m\"C:\\Users\\HP\\AppData\\Local\\Temp/ipykernel_5140/1365297850.py\"\u001b[1;36m, line \u001b[1;32m8\u001b[0m\n\u001b[1;33m    elif marks>50 and marks<=60:\u001b[0m\n\u001b[1;37m    ^\u001b[0m\n\u001b[1;31mSyntaxError\u001b[0m\u001b[1;31m:\u001b[0m invalid syntax\n"
     ]
    }
   ],
   "source": [
    "student_scores=[35,67,78,79,12,34,67,54,89]\n",
    "for marks in student_scores:\n",
    "    if marks>60:\n",
    "        if marks>70:\n",
    "            print(marks,'-Distinction')\n",
    "        else:\n",
    "            print(marks,'-First class')\n",
    "            elif marks>50 and marks<=60:\n",
    "                print(marks,'-Second class')\n",
    "                    elif marks>=35:\n",
    "                        print(marks,'-Pass')\n",
    "            \n",
    "        else:\n",
    "            print(marks,'-Fall-Better luck next time')"
   ]
  },
  {
   "cell_type": "code",
   "execution_count": 10,
   "id": "3ebf730a",
   "metadata": {},
   "outputs": [
    {
     "name": "stdout",
     "output_type": "stream",
     "text": [
      "Income till date=> 100\n",
      "The total weekly income is====>> 100\n",
      "Income till date=> 250\n",
      "The total weekly income is====>> 250\n",
      "Income till date=> 350\n",
      "The total weekly income is====>> 350\n",
      "Income till date=> 550\n",
      "The total weekly income is====>> 550\n",
      "Income till date=> 700\n",
      "The total weekly income is====>> 700\n",
      "Income till date=> 900\n",
      "The total weekly income is====>> 900\n",
      "Income till date=> 1200\n",
      "The total weekly income is====>> 1200\n"
     ]
    }
   ],
   "source": [
    "daily_sales=[100,150,100,200,150,200,300]\n",
    "income_till_date=0\n",
    "for val in daily_sales:\n",
    "    income_till_date=income_till_date+val\n",
    "    \n",
    "    print('Income till date=>',income_till_date)\n",
    "    \n",
    "    print('The total weekly income is====>>',income_till_date)"
   ]
  },
  {
   "cell_type": "code",
   "execution_count": 12,
   "id": "3923de8b",
   "metadata": {},
   "outputs": [
    {
     "name": "stdout",
     "output_type": "stream",
     "text": [
      "10\n",
      "20\n",
      "30\n",
      "No items left\n"
     ]
    }
   ],
   "source": [
    "digits=[10,20,30]\n",
    "for i in digits:\n",
    "    print(i)\n",
    "else:\n",
    "      print('No items left')"
   ]
  },
  {
   "cell_type": "code",
   "execution_count": 16,
   "id": "5c487e88",
   "metadata": {},
   "outputs": [
    {
     "ename": "IndentationError",
     "evalue": "expected an indented block (Temp/ipykernel_5140/722174177.py, line 3)",
     "output_type": "error",
     "traceback": [
      "\u001b[1;36m  File \u001b[1;32m\"C:\\Users\\HP\\AppData\\Local\\Temp/ipykernel_5140/722174177.py\"\u001b[1;36m, line \u001b[1;32m3\u001b[0m\n\u001b[1;33m    i=i+1\u001b[0m\n\u001b[1;37m    ^\u001b[0m\n\u001b[1;31mIndentationError\u001b[0m\u001b[1;31m:\u001b[0m expected an indented block\n"
     ]
    }
   ],
   "source": [
    "i=10   #while loop\n",
    "while i<10:\n",
    "i=i+1\n",
    "print(i,'Data Trained')"
   ]
  },
  {
   "cell_type": "code",
   "execution_count": 18,
   "id": "43fd7a11",
   "metadata": {},
   "outputs": [
    {
     "name": "stdout",
     "output_type": "stream",
     "text": [
      "time.struct_time(tm_year=2022, tm_mon=5, tm_mday=3, tm_hour=12, tm_min=18, tm_sec=30, tm_wday=1, tm_yday=123, tm_isdst=0)\n"
     ]
    }
   ],
   "source": [
    "import time\n",
    "result=time.localtime()\n",
    "print(result)"
   ]
  },
  {
   "cell_type": "code",
   "execution_count": null,
   "id": "ed05f3c0",
   "metadata": {},
   "outputs": [],
   "source": [
    "while True:\n",
    "    result=time.localtime()\n",
    "    if result.tm_hour==12 and result.tm_min==24:\n",
    "        print('Wake up buddy')\n",
    "        break"
   ]
  },
  {
   "cell_type": "code",
   "execution_count": null,
   "id": "724a86bf",
   "metadata": {},
   "outputs": [],
   "source": []
  },
  {
   "cell_type": "code",
   "execution_count": null,
   "id": "e4516f17",
   "metadata": {},
   "outputs": [],
   "source": []
  }
 ],
 "metadata": {
  "kernelspec": {
   "display_name": "Python 3 (ipykernel)",
   "language": "python",
   "name": "python3"
  },
  "language_info": {
   "codemirror_mode": {
    "name": "ipython",
    "version": 3
   },
   "file_extension": ".py",
   "mimetype": "text/x-python",
   "name": "python",
   "nbconvert_exporter": "python",
   "pygments_lexer": "ipython3",
   "version": "3.9.7"
  }
 },
 "nbformat": 4,
 "nbformat_minor": 5
}
