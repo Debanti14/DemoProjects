{
 "cells": [
  {
   "cell_type": "code",
   "execution_count": null,
   "id": "240b5fe0",
   "metadata": {},
   "outputs": [],
   "source": [
    "def name_of_function(arg1,arg2):"
   ]
  },
  {
   "cell_type": "code",
   "execution_count": 2,
   "id": "4a882f76",
   "metadata": {},
   "outputs": [],
   "source": [
    "def say_hello():\n",
    "    print('This is just a sample')"
   ]
  },
  {
   "cell_type": "code",
   "execution_count": 3,
   "id": "2be1465e",
   "metadata": {},
   "outputs": [
    {
     "name": "stdout",
     "output_type": "stream",
     "text": [
      "This is just a sample\n"
     ]
    }
   ],
   "source": [
    "say_hello()"
   ]
  },
  {
   "cell_type": "code",
   "execution_count": 20,
   "id": "02eae609",
   "metadata": {},
   "outputs": [],
   "source": [
    "def greeting(name):\n",
    "    print('Hello',name)\n",
    "    #print('Hello %s'%name)"
   ]
  },
  {
   "cell_type": "code",
   "execution_count": 22,
   "id": "f8b24c95",
   "metadata": {},
   "outputs": [
    {
     "ename": "SyntaxError",
     "evalue": "invalid syntax (Temp/ipykernel_4544/49127580.py, line 1)",
     "output_type": "error",
     "traceback": [
      "\u001b[1;36m  File \u001b[1;32m\"C:\\Users\\HP\\AppData\\Local\\Temp/ipykernel_4544/49127580.py\"\u001b[1;36m, line \u001b[1;32m1\u001b[0m\n\u001b[1;33m    greeting (Dear students)\u001b[0m\n\u001b[1;37m                   ^\u001b[0m\n\u001b[1;31mSyntaxError\u001b[0m\u001b[1;31m:\u001b[0m invalid syntax\n"
     ]
    }
   ],
   "source": [
    "greeting (Dear students)"
   ]
  },
  {
   "cell_type": "code",
   "execution_count": 8,
   "id": "8cf1fda6",
   "metadata": {},
   "outputs": [],
   "source": [
    "def salary_incr(salary):\n",
    "    if salary<=9000:\n",
    "        (salary+1000)\n",
    "    else:\n",
    "        salary"
   ]
  },
  {
   "cell_type": "code",
   "execution_count": 9,
   "id": "7ae807a7",
   "metadata": {},
   "outputs": [
    {
     "name": "stdout",
     "output_type": "stream",
     "text": [
      "Your New Salary= None\n"
     ]
    }
   ],
   "source": [
    "print('Your New Salary=',salary_incr(1500))"
   ]
  },
  {
   "cell_type": "code",
   "execution_count": 12,
   "id": "003ee7ee",
   "metadata": {},
   "outputs": [
    {
     "name": "stdout",
     "output_type": "stream",
     "text": [
      "Your New Salary=  1600\n"
     ]
    }
   ],
   "source": [
    "def salary_incr(salary):\n",
    "    if salary<=9000:\n",
    "        return(salary+100)\n",
    "    else:\n",
    "        return salary\n",
    "    \n",
    "print('Your New Salary= ',salary_incr(1500))\n",
    "    "
   ]
  },
  {
   "cell_type": "code",
   "execution_count": 13,
   "id": "e6544095",
   "metadata": {},
   "outputs": [
    {
     "name": "stdout",
     "output_type": "stream",
     "text": [
      "Your Total Marks= 200\n"
     ]
    }
   ],
   "source": [
    "def stud_marks(maths, sci, eng):\n",
    "    return(maths+sci+eng)\n",
    "\n",
    "print('Your Total Marks=', stud_marks(55,65,80))"
   ]
  },
  {
   "cell_type": "code",
   "execution_count": 14,
   "id": "54a84e3a",
   "metadata": {},
   "outputs": [
    {
     "data": {
      "text/plain": [
       "82"
      ]
     },
     "execution_count": 14,
     "metadata": {},
     "output_type": "execute_result"
    }
   ],
   "source": [
    "total_marks=stud_marks(32,30,20)\n",
    "total_marks"
   ]
  },
  {
   "cell_type": "code",
   "execution_count": 18,
   "id": "054be105",
   "metadata": {},
   "outputs": [
    {
     "ename": "IndentationError",
     "evalue": "unexpected indent (Temp/ipykernel_4544/549935664.py, line 2)",
     "output_type": "error",
     "traceback": [
      "\u001b[1;36m  File \u001b[1;32m\"C:\\Users\\HP\\AppData\\Local\\Temp/ipykernel_4544/549935664.py\"\u001b[1;36m, line \u001b[1;32m2\u001b[0m\n\u001b[1;33m    if total_marks<90:\u001b[0m\n\u001b[1;37m    ^\u001b[0m\n\u001b[1;31mIndentationError\u001b[0m\u001b[1;31m:\u001b[0m unexpected indent\n"
     ]
    }
   ],
   "source": [
    "total_marks=stud_marks(32,30,20)\n",
    "    if total_marks<90:\n",
    "        print(total_marks,'-You are fail')\n",
    "    elif total_marks>90 and total_marks<150:\n",
    "        print(total_marks,'-You are Pass')\n",
    "    elif total_marks>151 and total_marks<250:\n",
    "        print(total_marks,'-Your are first Class')\n",
    "    else:\n",
    "        print(total_marks,'-You are Distinction')"
   ]
  },
  {
   "cell_type": "code",
   "execution_count": 29,
   "id": "1bfabd29",
   "metadata": {},
   "outputs": [
    {
     "ename": "IndentationError",
     "evalue": "unindent does not match any outer indentation level (<tokenize>, line 15)",
     "output_type": "error",
     "traceback": [
      "\u001b[1;36m  File \u001b[1;32m\"<tokenize>\"\u001b[1;36m, line \u001b[1;32m15\u001b[0m\n\u001b[1;33m    elif ph_make<='Samsung 8110':\u001b[0m\n\u001b[1;37m    ^\u001b[0m\n\u001b[1;31mIndentationError\u001b[0m\u001b[1;31m:\u001b[0m unindent does not match any outer indentation level\n"
     ]
    }
   ],
   "source": [
    "def phone_price(ph_make,ph_age,ph_model_GB)\n",
    "    if ph_make=='iphone 11':\n",
    "        if 0<ph_age<=6:\n",
    "            if ph_model_GB==64:\n",
    "                print('Rs 39,283-Rs 41,713)\n",
    "            elif ph_model_GB=128:\n",
    "                print('Rs 45,835-Rs 48,670')\n",
    "                \n",
    "        if 6<ph_age<=12:\n",
    "            if ph_model_GB==64:\n",
    "                print('Rs 29,283-Rs 31,713)\n",
    "            elif ph_model_GB=128:\n",
    "                print('Rs 35,835-Rs 38,670')\n",
    "                      \n",
    "             elif ph_make<='Samsung 8110':\n",
    "                if 0<ph_age<=6:\n",
    "                print('Rs 853-Rs 906)\n",
    "            elif ph_age=12:\n",
    "                print('Rs 711-755')\n",
    "        phone_price('Samsung 8110', 7, 0)\n",
    "                      "
   ]
  },
  {
   "cell_type": "code",
   "execution_count": 33,
   "id": "e0df69a6",
   "metadata": {},
   "outputs": [
    {
     "ename": "SyntaxError",
     "evalue": "invalid syntax (Temp/ipykernel_4544/828770988.py, line 2)",
     "output_type": "error",
     "traceback": [
      "\u001b[1;36m  File \u001b[1;32m\"C:\\Users\\HP\\AppData\\Local\\Temp/ipykernel_4544/828770988.py\"\u001b[1;36m, line \u001b[1;32m2\u001b[0m\n\u001b[1;33m    for n in range(2,number)\u001b[0m\n\u001b[1;37m                            ^\u001b[0m\n\u001b[1;31mSyntaxError\u001b[0m\u001b[1;31m:\u001b[0m invalid syntax\n"
     ]
    }
   ],
   "source": [
    "def sqre(number):\n",
    "    for n in range(2,number)\n",
    "    if n%2==0:\n",
    "        print('Squared:',n*2)\n",
    "    else:\n",
    "        print('It is an odd number:',n)\n",
    "        \n",
    "     "
   ]
  },
  {
   "cell_type": "code",
   "execution_count": 32,
   "id": "9aa7f1af",
   "metadata": {},
   "outputs": [
    {
     "ename": "NameError",
     "evalue": "name 'sqre' is not defined",
     "output_type": "error",
     "traceback": [
      "\u001b[1;31m---------------------------------------------------------------------------\u001b[0m",
      "\u001b[1;31mNameError\u001b[0m                                 Traceback (most recent call last)",
      "\u001b[1;32m~\\AppData\\Local\\Temp/ipykernel_4544/1185713283.py\u001b[0m in \u001b[0;36m<module>\u001b[1;34m\u001b[0m\n\u001b[1;32m----> 1\u001b[1;33m \u001b[0msqre\u001b[0m\u001b[1;33m(\u001b[0m\u001b[1;36m6\u001b[0m\u001b[1;33m)\u001b[0m\u001b[1;33m\u001b[0m\u001b[1;33m\u001b[0m\u001b[0m\n\u001b[0m",
      "\u001b[1;31mNameError\u001b[0m: name 'sqre' is not defined"
     ]
    }
   ],
   "source": [
    "   sqre(6)"
   ]
  },
  {
   "cell_type": "code",
   "execution_count": null,
   "id": "4b644c9e",
   "metadata": {},
   "outputs": [],
   "source": []
  }
 ],
 "metadata": {
  "kernelspec": {
   "display_name": "Python 3 (ipykernel)",
   "language": "python",
   "name": "python3"
  },
  "language_info": {
   "codemirror_mode": {
    "name": "ipython",
    "version": 3
   },
   "file_extension": ".py",
   "mimetype": "text/x-python",
   "name": "python",
   "nbconvert_exporter": "python",
   "pygments_lexer": "ipython3",
   "version": "3.9.7"
  }
 },
 "nbformat": 4,
 "nbformat_minor": 5
}
