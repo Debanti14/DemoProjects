{
 "cells": [
  {
   "cell_type": "code",
   "execution_count": 2,
   "id": "27204281",
   "metadata": {},
   "outputs": [
    {
     "data": {
      "text/plain": [
       "['a', 'b', 'c']"
      ]
     },
     "execution_count": 2,
     "metadata": {},
     "output_type": "execute_result"
    }
   ],
   "source": [
    "l=['a', 'b','c']\n",
    "l"
   ]
  },
  {
   "cell_type": "code",
   "execution_count": 1,
   "id": "83c3c6c6",
   "metadata": {},
   "outputs": [
    {
     "data": {
      "text/plain": [
       "20"
      ]
     },
     "execution_count": 1,
     "metadata": {},
     "output_type": "execute_result"
    }
   ],
   "source": [
    "a=20\n",
    "a"
   ]
  },
  {
   "cell_type": "code",
   "execution_count": 2,
   "id": "352f55a3",
   "metadata": {},
   "outputs": [
    {
     "name": "stdout",
     "output_type": "stream",
     "text": [
      "20\n"
     ]
    }
   ],
   "source": [
    "print(a)"
   ]
  },
  {
   "cell_type": "code",
   "execution_count": 3,
   "id": "236ca435",
   "metadata": {},
   "outputs": [
    {
     "name": "stdout",
     "output_type": "stream",
     "text": [
      "20.0\n"
     ]
    },
    {
     "data": {
      "text/plain": [
       "float"
      ]
     },
     "execution_count": 3,
     "metadata": {},
     "output_type": "execute_result"
    }
   ],
   "source": [
    "b=20.0\n",
    "print(b)\n",
    "type(b)"
   ]
  },
  {
   "cell_type": "code",
   "execution_count": 4,
   "id": "76de574d",
   "metadata": {},
   "outputs": [
    {
     "name": "stdout",
     "output_type": "stream",
     "text": [
      "30\n"
     ]
    }
   ],
   "source": [
    "a=10\n",
    "b=20\n",
    "c=a+b\n",
    "print(c)"
   ]
  },
  {
   "cell_type": "code",
   "execution_count": 5,
   "id": "16c04f0d",
   "metadata": {},
   "outputs": [
    {
     "name": "stdout",
     "output_type": "stream",
     "text": [
      "Hello World\n"
     ]
    }
   ],
   "source": [
    "print('Hello World')"
   ]
  },
  {
   "cell_type": "code",
   "execution_count": 8,
   "id": "9383ae4a",
   "metadata": {},
   "outputs": [
    {
     "name": "stdout",
     "output_type": "stream",
     "text": [
      "Python is a powerful Language\n",
      "Wow Python is  Easy\n"
     ]
    }
   ],
   "source": [
    "first_string=\"Python \"\n",
    "second_string=\"is a powerful \"\n",
    "third_string=\"Language\"\n",
    "type(first_string)\n",
    "print(first_string+second_string+third_string)\n",
    "print('Wow '+'Python is ','Easy')"
   ]
  },
  {
   "cell_type": "code",
   "execution_count": 10,
   "id": "473af30b",
   "metadata": {},
   "outputs": [
    {
     "name": "stdout",
     "output_type": "stream",
     "text": [
      "Day Day Day Day Day \n"
     ]
    }
   ],
   "source": [
    "print('Day '* 5)"
   ]
  },
  {
   "cell_type": "code",
   "execution_count": 11,
   "id": "0f042035",
   "metadata": {},
   "outputs": [
    {
     "ename": "TypeError",
     "evalue": "can only concatenate str (not \"int\") to str",
     "output_type": "error",
     "traceback": [
      "\u001b[1;31m---------------------------------------------------------------------------\u001b[0m",
      "\u001b[1;31mTypeError\u001b[0m                                 Traceback (most recent call last)",
      "\u001b[1;32m~\\AppData\\Local\\Temp/ipykernel_12028/4283745067.py\u001b[0m in \u001b[0;36m<module>\u001b[1;34m\u001b[0m\n\u001b[1;32m----> 1\u001b[1;33m \u001b[0mprint\u001b[0m\u001b[1;33m(\u001b[0m\u001b[1;34m'Day'\u001b[0m\u001b[1;33m+\u001b[0m\u001b[1;36m2\u001b[0m\u001b[1;33m)\u001b[0m\u001b[1;33m\u001b[0m\u001b[1;33m\u001b[0m\u001b[0m\n\u001b[0m",
      "\u001b[1;31mTypeError\u001b[0m: can only concatenate str (not \"int\") to str"
     ]
    }
   ],
   "source": [
    "print('Day'+2)"
   ]
  },
  {
   "cell_type": "code",
   "execution_count": 12,
   "id": "672d9cf2",
   "metadata": {},
   "outputs": [
    {
     "name": "stdout",
     "output_type": "stream",
     "text": [
      "Day2\n"
     ]
    }
   ],
   "source": [
    "print('Day'+str(2))"
   ]
  },
  {
   "cell_type": "code",
   "execution_count": 13,
   "id": "1395c723",
   "metadata": {},
   "outputs": [
    {
     "ename": "ValueError",
     "evalue": "invalid literal for int() with base 10: 'Day'",
     "output_type": "error",
     "traceback": [
      "\u001b[1;31m---------------------------------------------------------------------------\u001b[0m",
      "\u001b[1;31mValueError\u001b[0m                                Traceback (most recent call last)",
      "\u001b[1;32m~\\AppData\\Local\\Temp/ipykernel_12028/1178949185.py\u001b[0m in \u001b[0;36m<module>\u001b[1;34m\u001b[0m\n\u001b[1;32m----> 1\u001b[1;33m \u001b[0mprint\u001b[0m\u001b[1;33m(\u001b[0m\u001b[0mint\u001b[0m\u001b[1;33m(\u001b[0m\u001b[1;34m'Day'\u001b[0m\u001b[1;33m)\u001b[0m\u001b[1;33m+\u001b[0m \u001b[1;36m2\u001b[0m\u001b[1;33m)\u001b[0m\u001b[1;33m\u001b[0m\u001b[1;33m\u001b[0m\u001b[0m\n\u001b[0m",
      "\u001b[1;31mValueError\u001b[0m: invalid literal for int() with base 10: 'Day'"
     ]
    }
   ],
   "source": [
    "print(int('Day')+ 2)"
   ]
  },
  {
   "cell_type": "code",
   "execution_count": 14,
   "id": "8856e8fe",
   "metadata": {},
   "outputs": [
    {
     "name": "stdout",
     "output_type": "stream",
     "text": [
      "Day 2\n"
     ]
    }
   ],
   "source": [
    "print('Day 2')"
   ]
  },
  {
   "cell_type": "code",
   "execution_count": 4,
   "id": "e780a99c",
   "metadata": {},
   "outputs": [
    {
     "data": {
      "text/plain": [
       "['a', 6.9, 9]"
      ]
     },
     "execution_count": 4,
     "metadata": {},
     "output_type": "execute_result"
    }
   ],
   "source": [
    "l=['a', 6.9, 9]\n",
    "l2=list(l)\n",
    "l2"
   ]
  },
  {
   "cell_type": "code",
   "execution_count": 5,
   "id": "90ec3fbb",
   "metadata": {},
   "outputs": [
    {
     "name": "stdout",
     "output_type": "stream",
     "text": [
      "[35, 45, 60, 80, 100]\n"
     ]
    }
   ],
   "source": [
    "marks=[35,45,60,80,100]\n",
    "print(marks)"
   ]
  },
  {
   "cell_type": "code",
   "execution_count": 6,
   "id": "7d808ffc",
   "metadata": {},
   "outputs": [
    {
     "data": {
      "text/plain": [
       "[35, 45, 60, 80, 100]"
      ]
     },
     "execution_count": 6,
     "metadata": {},
     "output_type": "execute_result"
    }
   ],
   "source": [
    "copy_marks=marks.copy()\n",
    "copy_marks"
   ]
  },
  {
   "cell_type": "code",
   "execution_count": 7,
   "id": "ff5f8aaa",
   "metadata": {},
   "outputs": [
    {
     "data": {
      "text/plain": [
       "['D', 'e', 'b', 'a', 'n', 't', 'i']"
      ]
     },
     "execution_count": 7,
     "metadata": {},
     "output_type": "execute_result"
    }
   ],
   "source": [
    "list('Debanti')"
   ]
  },
  {
   "cell_type": "code",
   "execution_count": 8,
   "id": "3f2cc2b7",
   "metadata": {},
   "outputs": [
    {
     "ename": "TypeError",
     "evalue": "'int' object is not iterable",
     "output_type": "error",
     "traceback": [
      "\u001b[1;31m---------------------------------------------------------------------------\u001b[0m",
      "\u001b[1;31mTypeError\u001b[0m                                 Traceback (most recent call last)",
      "\u001b[1;32m~\\AppData\\Local\\Temp/ipykernel_11052/2619827301.py\u001b[0m in \u001b[0;36m<module>\u001b[1;34m\u001b[0m\n\u001b[1;32m----> 1\u001b[1;33m \u001b[0mlist\u001b[0m\u001b[1;33m(\u001b[0m\u001b[1;36m1342588\u001b[0m\u001b[1;33m)\u001b[0m\u001b[1;33m\u001b[0m\u001b[1;33m\u001b[0m\u001b[0m\n\u001b[0m",
      "\u001b[1;31mTypeError\u001b[0m: 'int' object is not iterable"
     ]
    }
   ],
   "source": [
    "list(1342588)"
   ]
  },
  {
   "cell_type": "code",
   "execution_count": 9,
   "id": "ea8f8cea",
   "metadata": {},
   "outputs": [
    {
     "data": {
      "text/plain": [
       "['1', '3', '4', '2', '5', '8', '8']"
      ]
     },
     "execution_count": 9,
     "metadata": {},
     "output_type": "execute_result"
    }
   ],
   "source": [
    "list('1342588')"
   ]
  },
  {
   "cell_type": "code",
   "execution_count": 10,
   "id": "bb246fd8",
   "metadata": {},
   "outputs": [
    {
     "name": "stdout",
     "output_type": "stream",
     "text": [
      "['Radha']\n"
     ]
    }
   ],
   "source": [
    "employee=[]\n",
    "employee.append('Radha')\n",
    "print(employee)"
   ]
  },
  {
   "cell_type": "code",
   "execution_count": 11,
   "id": "907ba86b",
   "metadata": {},
   "outputs": [
    {
     "name": "stdout",
     "output_type": "stream",
     "text": [
      "['Radha', 'Ramesh', 'Raunak']\n"
     ]
    }
   ],
   "source": [
    "employee.append('Ramesh')\n",
    "employee.append('Raunak')\n",
    "print(employee)"
   ]
  },
  {
   "cell_type": "code",
   "execution_count": 12,
   "id": "286a6159",
   "metadata": {},
   "outputs": [
    {
     "data": {
      "text/plain": [
       "['Radha', \"D'Souza\", 'Ramesh', 'Raunak']"
      ]
     },
     "execution_count": 12,
     "metadata": {},
     "output_type": "execute_result"
    }
   ],
   "source": [
    "employee.insert(1, \"D'Souza\")\n",
    "employee"
   ]
  },
  {
   "cell_type": "code",
   "execution_count": 13,
   "id": "c34e7c75",
   "metadata": {},
   "outputs": [
    {
     "data": {
      "text/plain": [
       "[15000, 28000, 19000]"
      ]
     },
     "execution_count": 13,
     "metadata": {},
     "output_type": "execute_result"
    }
   ],
   "source": [
    "emp_salary=[15000,28000,19000]\n",
    "emp_salary"
   ]
  },
  {
   "cell_type": "code",
   "execution_count": 16,
   "id": "e45cfa94",
   "metadata": {},
   "outputs": [
    {
     "data": {
      "text/plain": [
       "[48000, 15000, 28000, 19000]"
      ]
     },
     "execution_count": 16,
     "metadata": {},
     "output_type": "execute_result"
    }
   ],
   "source": [
    "emp_salary.insert(0, 48000)\n",
    "emp_salary"
   ]
  },
  {
   "cell_type": "code",
   "execution_count": 20,
   "id": "14afc979",
   "metadata": {},
   "outputs": [
    {
     "data": {
      "text/plain": [
       "[48000, 20000, 28000, 19000]"
      ]
     },
     "execution_count": 20,
     "metadata": {},
     "output_type": "execute_result"
    }
   ],
   "source": [
    "emp_salary[1]=20000\n",
    "emp_salary"
   ]
  },
  {
   "cell_type": "code",
   "execution_count": 21,
   "id": "86dbaefe",
   "metadata": {},
   "outputs": [
    {
     "data": {
      "text/plain": [
       "[20000, 28000, 19000]"
      ]
     },
     "execution_count": 21,
     "metadata": {},
     "output_type": "execute_result"
    }
   ],
   "source": [
    "emp_salary[1: ]"
   ]
  },
  {
   "cell_type": "code",
   "execution_count": 22,
   "id": "66aa9143",
   "metadata": {},
   "outputs": [
    {
     "data": {
      "text/plain": [
       "[48000, 20000, 28000]"
      ]
     },
     "execution_count": 22,
     "metadata": {},
     "output_type": "execute_result"
    }
   ],
   "source": [
    "emp_salary[ :3]"
   ]
  },
  {
   "cell_type": "code",
   "execution_count": 23,
   "id": "0a290cec",
   "metadata": {},
   "outputs": [
    {
     "data": {
      "text/plain": [
       "[48000, 20000, 28000, 19000, 25000]"
      ]
     },
     "execution_count": 23,
     "metadata": {},
     "output_type": "execute_result"
    }
   ],
   "source": [
    "emp_salary + [25000]"
   ]
  },
  {
   "cell_type": "code",
   "execution_count": 24,
   "id": "416a5172",
   "metadata": {},
   "outputs": [
    {
     "data": {
      "text/plain": [
       "[48000, 20000, 28000, 19000]"
      ]
     },
     "execution_count": 24,
     "metadata": {},
     "output_type": "execute_result"
    }
   ],
   "source": [
    "emp_salary   #This doesn't change the actual list"
   ]
  },
  {
   "cell_type": "code",
   "execution_count": 25,
   "id": "86538227",
   "metadata": {},
   "outputs": [
    {
     "data": {
      "text/plain": [
       "[20000, 28000]"
      ]
     },
     "execution_count": 25,
     "metadata": {},
     "output_type": "execute_result"
    }
   ],
   "source": [
    "emp_salary[1:3]"
   ]
  },
  {
   "cell_type": "code",
   "execution_count": 26,
   "id": "4786e525",
   "metadata": {},
   "outputs": [
    {
     "data": {
      "text/plain": [
       "[48000, 20000, 28000, 19000, 25000]"
      ]
     },
     "execution_count": 26,
     "metadata": {},
     "output_type": "execute_result"
    }
   ],
   "source": [
    "emp_salary+[25000]"
   ]
  },
  {
   "cell_type": "code",
   "execution_count": 27,
   "id": "c696c292",
   "metadata": {},
   "outputs": [
    {
     "data": {
      "text/plain": [
       "[48000, 20000, 28000, 19000]"
      ]
     },
     "execution_count": 27,
     "metadata": {},
     "output_type": "execute_result"
    }
   ],
   "source": [
    "emp_salary"
   ]
  },
  {
   "cell_type": "code",
   "execution_count": 28,
   "id": "bbb69a72",
   "metadata": {},
   "outputs": [
    {
     "data": {
      "text/plain": [
       "[48000, 20000, 28000, 19000, 48000, 20000, 28000, 19000]"
      ]
     },
     "execution_count": 28,
     "metadata": {},
     "output_type": "execute_result"
    }
   ],
   "source": [
    "emp_salary*2"
   ]
  },
  {
   "cell_type": "code",
   "execution_count": 17,
   "id": "c7ec43b4",
   "metadata": {},
   "outputs": [
    {
     "data": {
      "text/plain": [
       "4"
      ]
     },
     "execution_count": 17,
     "metadata": {},
     "output_type": "execute_result"
    }
   ],
   "source": [
    "len(employee)"
   ]
  },
  {
   "cell_type": "code",
   "execution_count": 18,
   "id": "16bee4f4",
   "metadata": {},
   "outputs": [
    {
     "data": {
      "text/plain": [
       "'Raunak'"
      ]
     },
     "execution_count": 18,
     "metadata": {},
     "output_type": "execute_result"
    }
   ],
   "source": [
    "employee[3]"
   ]
  },
  {
   "cell_type": "code",
   "execution_count": 19,
   "id": "f436ff7d",
   "metadata": {},
   "outputs": [
    {
     "data": {
      "text/plain": [
       "['Radha', 'Remo', 'Ramesh', 'Raunak']"
      ]
     },
     "execution_count": 19,
     "metadata": {},
     "output_type": "execute_result"
    }
   ],
   "source": [
    "employee[1]='Remo'\n",
    "employee"
   ]
  },
  {
   "cell_type": "code",
   "execution_count": 32,
   "id": "15a226e4",
   "metadata": {},
   "outputs": [
    {
     "name": "stdout",
     "output_type": "stream",
     "text": [
      "==========================================================================================\n",
      "                                  Datatrained                \n",
      "==========================================================================================\n"
     ]
    }
   ],
   "source": [
    "print('=' * 90)\n",
    "print('                                  Datatrained                ')\n",
    "print('=' * 90)"
   ]
  },
  {
   "cell_type": "code",
   "execution_count": 34,
   "id": "61797bf2",
   "metadata": {},
   "outputs": [
    {
     "data": {
      "text/plain": [
       "3"
      ]
     },
     "execution_count": 34,
     "metadata": {},
     "output_type": "execute_result"
    }
   ],
   "source": [
    "marks=[25,38,49,55,38,26,47,55,60,74,88,38]\n",
    "marks.count(38)"
   ]
  },
  {
   "cell_type": "code",
   "execution_count": 35,
   "id": "f1376c9d",
   "metadata": {},
   "outputs": [
    {
     "data": {
      "text/plain": [
       "[25, 38, 49, 55, 38, 26, 47, 55, 60, 74, 88, 38]"
      ]
     },
     "execution_count": 35,
     "metadata": {},
     "output_type": "execute_result"
    }
   ],
   "source": [
    "marks"
   ]
  },
  {
   "cell_type": "code",
   "execution_count": 36,
   "id": "df59ae90",
   "metadata": {},
   "outputs": [
    {
     "data": {
      "text/plain": [
       "10"
      ]
     },
     "execution_count": 36,
     "metadata": {},
     "output_type": "execute_result"
    }
   ],
   "source": [
    "marks.index(88)"
   ]
  },
  {
   "cell_type": "code",
   "execution_count": 22,
   "id": "959d1ffe",
   "metadata": {},
   "outputs": [
    {
     "data": {
      "text/plain": [
       "[]"
      ]
     },
     "execution_count": 22,
     "metadata": {},
     "output_type": "execute_result"
    }
   ],
   "source": [
    "employee=[]\n",
    "employee"
   ]
  },
  {
   "cell_type": "code",
   "execution_count": 23,
   "id": "a7cf5978",
   "metadata": {},
   "outputs": [
    {
     "ename": "TypeError",
     "evalue": "list.append() takes exactly one argument (2 given)",
     "output_type": "error",
     "traceback": [
      "\u001b[1;31m---------------------------------------------------------------------------\u001b[0m",
      "\u001b[1;31mTypeError\u001b[0m                                 Traceback (most recent call last)",
      "\u001b[1;32m~\\AppData\\Local\\Temp/ipykernel_12028/1924812586.py\u001b[0m in \u001b[0;36m<module>\u001b[1;34m\u001b[0m\n\u001b[1;32m----> 1\u001b[1;33m \u001b[0memployee\u001b[0m\u001b[1;33m.\u001b[0m\u001b[0mappend\u001b[0m\u001b[1;33m(\u001b[0m\u001b[1;34m'Anu'\u001b[0m\u001b[1;33m,\u001b[0m\u001b[1;34m'Sapna'\u001b[0m\u001b[1;33m)\u001b[0m\u001b[1;33m\u001b[0m\u001b[1;33m\u001b[0m\u001b[0m\n\u001b[0m\u001b[0;32m      2\u001b[0m \u001b[0mprint\u001b[0m\u001b[1;33m(\u001b[0m\u001b[0memployee\u001b[0m\u001b[1;33m)\u001b[0m\u001b[1;33m\u001b[0m\u001b[1;33m\u001b[0m\u001b[0m\n",
      "\u001b[1;31mTypeError\u001b[0m: list.append() takes exactly one argument (2 given)"
     ]
    }
   ],
   "source": [
    "employee.append('Anu','Sapna')\n",
    "print(employee)\n"
   ]
  },
  {
   "cell_type": "code",
   "execution_count": 46,
   "id": "1c681a73",
   "metadata": {},
   "outputs": [
    {
     "ename": "TypeError",
     "evalue": "'builtin_function_or_method' object is not subscriptable",
     "output_type": "error",
     "traceback": [
      "\u001b[1;31m---------------------------------------------------------------------------\u001b[0m",
      "\u001b[1;31mTypeError\u001b[0m                                 Traceback (most recent call last)",
      "\u001b[1;32m~\\AppData\\Local\\Temp/ipykernel_11052/1092266742.py\u001b[0m in \u001b[0;36m<module>\u001b[1;34m\u001b[0m\n\u001b[0;32m      1\u001b[0m \u001b[0memployee\u001b[0m\u001b[1;33m=\u001b[0m\u001b[1;33m[\u001b[0m\u001b[1;34m'Radha'\u001b[0m\u001b[1;33m,\u001b[0m \u001b[1;34m'Remo'\u001b[0m\u001b[1;33m,\u001b[0m \u001b[1;34m'Ramesh'\u001b[0m\u001b[1;33m,\u001b[0m \u001b[1;34m'Raunak'\u001b[0m\u001b[1;33m]\u001b[0m\u001b[1;33m\u001b[0m\u001b[1;33m\u001b[0m\u001b[0m\n\u001b[1;32m----> 2\u001b[1;33m \u001b[0memployee\u001b[0m\u001b[1;33m.\u001b[0m\u001b[0mextend\u001b[0m\u001b[1;33m[\u001b[0m\u001b[1;34m'Anu'\u001b[0m\u001b[1;33m,\u001b[0m\u001b[1;34m'Sapna'\u001b[0m\u001b[1;33m]\u001b[0m\u001b[1;33m\u001b[0m\u001b[1;33m\u001b[0m\u001b[0m\n\u001b[0m\u001b[0;32m      3\u001b[0m \u001b[0mprint\u001b[0m\u001b[1;33m(\u001b[0m\u001b[0memployee\u001b[0m\u001b[1;33m)\u001b[0m\u001b[1;33m\u001b[0m\u001b[1;33m\u001b[0m\u001b[0m\n",
      "\u001b[1;31mTypeError\u001b[0m: 'builtin_function_or_method' object is not subscriptable"
     ]
    }
   ],
   "source": [
    "employee=['Radha', 'Remo', 'Ramesh', 'Raunak']\n",
    "employee.extend['Anu','Sapna']\n",
    "print(employee)"
   ]
  },
  {
   "cell_type": "code",
   "execution_count": 49,
   "id": "5c9571be",
   "metadata": {},
   "outputs": [
    {
     "data": {
      "text/plain": [
       "['Raj', 'Ram', 'Abid', 'Nancy', 'Fatima']"
      ]
     },
     "execution_count": 49,
     "metadata": {},
     "output_type": "execute_result"
    }
   ],
   "source": [
    "students=['Raj', 'Ram', 'Abid', 'Nancy', 'Fatima']\n",
    "students"
   ]
  },
  {
   "cell_type": "code",
   "execution_count": 50,
   "id": "ef748fed",
   "metadata": {},
   "outputs": [
    {
     "data": {
      "text/plain": [
       "'Fatima'"
      ]
     },
     "execution_count": 50,
     "metadata": {},
     "output_type": "execute_result"
    }
   ],
   "source": [
    "pop_last=students.pop() #Deletes last element\n",
    "pop_last"
   ]
  },
  {
   "cell_type": "code",
   "execution_count": 51,
   "id": "2101d940",
   "metadata": {},
   "outputs": [
    {
     "data": {
      "text/plain": [
       "['Raj', 'Ram', 'Abid', 'Nancy']"
      ]
     },
     "execution_count": 51,
     "metadata": {},
     "output_type": "execute_result"
    }
   ],
   "source": [
    "students"
   ]
  },
  {
   "cell_type": "code",
   "execution_count": 52,
   "id": "ed1faa73",
   "metadata": {},
   "outputs": [
    {
     "data": {
      "text/plain": [
       "'Ram'"
      ]
     },
     "execution_count": 52,
     "metadata": {},
     "output_type": "execute_result"
    }
   ],
   "source": [
    "pop_index=students.pop(1)\n",
    "pop_index"
   ]
  },
  {
   "cell_type": "code",
   "execution_count": 53,
   "id": "0458f18a",
   "metadata": {},
   "outputs": [
    {
     "data": {
      "text/plain": [
       "['Raj', 'Abid', 'Nancy']"
      ]
     },
     "execution_count": 53,
     "metadata": {},
     "output_type": "execute_result"
    }
   ],
   "source": [
    "students"
   ]
  },
  {
   "cell_type": "code",
   "execution_count": 54,
   "id": "f750a458",
   "metadata": {},
   "outputs": [
    {
     "data": {
      "text/plain": [
       "[100, 101, 102, 104, 103]"
      ]
     },
     "execution_count": 54,
     "metadata": {},
     "output_type": "execute_result"
    }
   ],
   "source": [
    "roll_number=[100,101,102,103,104,103]\n",
    "roll_number.remove(103)\n",
    "roll_number"
   ]
  },
  {
   "cell_type": "code",
   "execution_count": 58,
   "id": "ffe674eb",
   "metadata": {},
   "outputs": [
    {
     "data": {
      "text/plain": [
       "[3, 4, 3, 2, 1]"
      ]
     },
     "execution_count": 58,
     "metadata": {},
     "output_type": "execute_result"
    }
   ],
   "source": [
    "first=[1,2,3,4,3]\n",
    "first.reverse()\n",
    "first"
   ]
  },
  {
   "cell_type": "code",
   "execution_count": 59,
   "id": "8b37a19c",
   "metadata": {},
   "outputs": [
    {
     "data": {
      "text/plain": [
       "[25, 26, 38, 38, 47, 49, 55]"
      ]
     },
     "execution_count": 59,
     "metadata": {},
     "output_type": "execute_result"
    }
   ],
   "source": [
    "marks=[25,38,49,55,38,26,47]\n",
    "marks.sort()\n",
    "marks"
   ]
  },
  {
   "cell_type": "code",
   "execution_count": 60,
   "id": "302c6d11",
   "metadata": {},
   "outputs": [
    {
     "data": {
      "text/plain": [
       "[55, 49, 47, 38, 38, 26, 25]"
      ]
     },
     "execution_count": 60,
     "metadata": {},
     "output_type": "execute_result"
    }
   ],
   "source": [
    "marks.sort(reverse=True)\n",
    "marks"
   ]
  },
  {
   "cell_type": "code",
   "execution_count": 18,
   "id": "636ab520",
   "metadata": {},
   "outputs": [
    {
     "name": "stdout",
     "output_type": "stream",
     "text": [
      "Collecting jedi==0.17.2\n",
      "  Downloading jedi-0.17.2-py2.py3-none-any.whl (1.4 MB)\n",
      "Collecting parso<0.8.0,>=0.7.0\n",
      "  Downloading parso-0.7.1-py2.py3-none-any.whl (109 kB)\n",
      "Installing collected packages: parso, jedi\n",
      "  Attempting uninstall: parso\n",
      "    Found existing installation: parso 0.8.2\n",
      "    Uninstalling parso-0.8.2:\n",
      "      Successfully uninstalled parso-0.8.2\n",
      "  Attempting uninstall: jedi\n",
      "    Found existing installation: jedi 0.18.0\n",
      "    Uninstalling jedi-0.18.0:\n",
      "      Successfully uninstalled jedi-0.18.0\n",
      "Successfully installed jedi-0.17.2 parso-0.7.1\n"
     ]
    },
    {
     "name": "stderr",
     "output_type": "stream",
     "text": [
      "ERROR: pip's dependency resolver does not currently take into account all the packages that are installed. This behaviour is the source of the following dependency conflicts.\n",
      "spyder 5.1.5 requires pyqt5<5.13, which is not installed.\n",
      "spyder 5.1.5 requires pyqtwebengine<5.13, which is not installed.\n"
     ]
    }
   ],
   "source": [
    "!pip3 install jedi==0.17.2"
   ]
  },
  {
   "cell_type": "code",
   "execution_count": null,
   "id": "a7f7b363",
   "metadata": {},
   "outputs": [],
   "source": []
  }
 ],
 "metadata": {
  "kernelspec": {
   "display_name": "Python 3 (ipykernel)",
   "language": "python",
   "name": "python3"
  },
  "language_info": {
   "codemirror_mode": {
    "name": "ipython",
    "version": 3
   },
   "file_extension": ".py",
   "mimetype": "text/x-python",
   "name": "python",
   "nbconvert_exporter": "python",
   "pygments_lexer": "ipython3",
   "version": "3.9.7"
  }
 },
 "nbformat": 4,
 "nbformat_minor": 5
}
