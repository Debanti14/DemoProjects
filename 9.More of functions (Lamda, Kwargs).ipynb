{
 "cells": [
  {
   "cell_type": "code",
   "execution_count": 4,
   "id": "48a77efb",
   "metadata": {},
   "outputs": [
    {
     "ename": "SyntaxError",
     "evalue": "invalid syntax (Temp/ipykernel_5040/4223044958.py, line 1)",
     "output_type": "error",
     "traceback": [
      "\u001b[1;36m  File \u001b[1;32m\"C:\\Users\\HP\\AppData\\Local\\Temp/ipykernel_5040/4223044958.py\"\u001b[1;36m, line \u001b[1;32m1\u001b[0m\n\u001b[1;33m    add_num=lamda y:y+30\u001b[0m\n\u001b[1;37m                  ^\u001b[0m\n\u001b[1;31mSyntaxError\u001b[0m\u001b[1;31m:\u001b[0m invalid syntax\n"
     ]
    }
   ],
   "source": [
    "add_num=lamda y:y+30\n",
    "    print(add_num(50))"
   ]
  },
  {
   "cell_type": "code",
   "execution_count": 5,
   "id": "f94af756",
   "metadata": {},
   "outputs": [
    {
     "ename": "SyntaxError",
     "evalue": "invalid syntax (Temp/ipykernel_5040/2226407448.py, line 1)",
     "output_type": "error",
     "traceback": [
      "\u001b[1;36m  File \u001b[1;32m\"C:\\Users\\HP\\AppData\\Local\\Temp/ipykernel_5040/2226407448.py\"\u001b[1;36m, line \u001b[1;32m1\u001b[0m\n\u001b[1;33m    multi_num=lamda a,b:a*b\u001b[0m\n\u001b[1;37m                    ^\u001b[0m\n\u001b[1;31mSyntaxError\u001b[0m\u001b[1;31m:\u001b[0m invalid syntax\n"
     ]
    }
   ],
   "source": [
    "multi_num=lamda a,b:a*b\n",
    "    print(multi_num(15,20))"
   ]
  },
  {
   "cell_type": "code",
   "execution_count": 6,
   "id": "fb4644af",
   "metadata": {},
   "outputs": [],
   "source": [
    "def my_fun(*args):\n",
    "    for i in args:\n",
    "        print('my args:-',i)"
   ]
  },
  {
   "cell_type": "code",
   "execution_count": 7,
   "id": "05d3f637",
   "metadata": {},
   "outputs": [
    {
     "name": "stdout",
     "output_type": "stream",
     "text": [
      "my args:- India\n",
      "my args:- 56\n",
      "my args:- Bengaluru\n",
      "my args:- 30.4\n",
      "my args:- 234\n"
     ]
    }
   ],
   "source": [
    "my_fun('India',56,'Bengaluru', 30.40,234)\n"
   ]
  },
  {
   "cell_type": "code",
   "execution_count": 9,
   "id": "18c8a842",
   "metadata": {},
   "outputs": [],
   "source": [
    "def my_kwargs(**kwargs):\n",
    "    for key, value in kwargs.items():\n",
    "        print(key, value)\n",
    "    my_kwargs(students=['Ram','Shiva'], Marks=[70,75])"
   ]
  },
  {
   "cell_type": "code",
   "execution_count": 10,
   "id": "68707239",
   "metadata": {},
   "outputs": [
    {
     "name": "stdout",
     "output_type": "stream",
     "text": [
      "this batch rocks\n"
     ]
    }
   ],
   "source": [
    "s='this batch rocks'\n",
    "print(s)"
   ]
  },
  {
   "cell_type": "code",
   "execution_count": 12,
   "id": "fd313fad",
   "metadata": {},
   "outputs": [
    {
     "data": {
      "text/plain": [
       "'this batch rocks'"
      ]
     },
     "execution_count": 12,
     "metadata": {},
     "output_type": "execute_result"
    }
   ],
   "source": [
    "s"
   ]
  },
  {
   "cell_type": "code",
   "execution_count": 15,
   "id": "964d78a7",
   "metadata": {},
   "outputs": [
    {
     "data": {
      "text/plain": [
       "'b'"
      ]
     },
     "execution_count": 15,
     "metadata": {},
     "output_type": "execute_result"
    }
   ],
   "source": [
    "s[5]"
   ]
  },
  {
   "cell_type": "code",
   "execution_count": 14,
   "id": "af971249",
   "metadata": {},
   "outputs": [
    {
     "data": {
      "text/plain": [
       "'h'"
      ]
     },
     "execution_count": 14,
     "metadata": {},
     "output_type": "execute_result"
    }
   ],
   "source": [
    "s[1]"
   ]
  },
  {
   "cell_type": "code",
   "execution_count": 16,
   "id": "d2da17c6",
   "metadata": {},
   "outputs": [
    {
     "data": {
      "text/plain": [
       "'his batch rocks'"
      ]
     },
     "execution_count": 16,
     "metadata": {},
     "output_type": "execute_result"
    }
   ],
   "source": [
    "s[1:]"
   ]
  },
  {
   "cell_type": "code",
   "execution_count": 17,
   "id": "e0394bd7",
   "metadata": {},
   "outputs": [
    {
     "data": {
      "text/plain": [
       "'thi'"
      ]
     },
     "execution_count": 17,
     "metadata": {},
     "output_type": "execute_result"
    }
   ],
   "source": [
    "s[0:3]"
   ]
  },
  {
   "cell_type": "code",
   "execution_count": 18,
   "id": "33e1c90e",
   "metadata": {},
   "outputs": [
    {
     "data": {
      "text/plain": [
       "'scrht'"
      ]
     },
     "execution_count": 18,
     "metadata": {},
     "output_type": "execute_result"
    }
   ],
   "source": [
    "s[:5:-2]"
   ]
  },
  {
   "cell_type": "code",
   "execution_count": null,
   "id": "d295653a",
   "metadata": {},
   "outputs": [],
   "source": []
  }
 ],
 "metadata": {
  "kernelspec": {
   "display_name": "Python 3 (ipykernel)",
   "language": "python",
   "name": "python3"
  },
  "language_info": {
   "codemirror_mode": {
    "name": "ipython",
    "version": 3
   },
   "file_extension": ".py",
   "mimetype": "text/x-python",
   "name": "python",
   "nbconvert_exporter": "python",
   "pygments_lexer": "ipython3",
   "version": "3.9.7"
  }
 },
 "nbformat": 4,
 "nbformat_minor": 5
}
