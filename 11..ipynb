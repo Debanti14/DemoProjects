{
 "cells": [
  {
   "cell_type": "code",
   "execution_count": null,
   "id": "5d9d145f",
   "metadata": {},
   "outputs": [],
   "source": [
    "name=input(\"Enter your name\")\n",
    "print('User Entered: ',name)"
   ]
  },
  {
   "cell_type": "code",
   "execution_count": null,
   "id": "e6f04671",
   "metadata": {},
   "outputs": [],
   "source": [
    "#How to make user enter only  Integers/strings?\n",
    "maths=int(input('Enter maths score '))\n",
    "\n",
    "science=int(input('Enter science score '))\n"
   ]
  },
  {
   "cell_type": "code",
   "execution_count": null,
   "id": "f6154dd8",
   "metadata": {},
   "outputs": [],
   "source": [
    "total_marks=maths+science\n",
    "\n",
    "print('Your total marks ',total_marks)"
   ]
  },
  {
   "cell_type": "code",
   "execution_count": null,
   "id": "bea8aee7",
   "metadata": {},
   "outputs": [],
   "source": [
    "#How to check only letters\n",
    "name input('Enter your name= ')\n",
    "if name.isalpha():\n",
    "    print('You Entered= ',name)\n",
    "else:\n",
    "    print('Enter only alpha characters')"
   ]
  },
  {
   "cell_type": "code",
   "execution_count": null,
   "id": "cb1e300e",
   "metadata": {},
   "outputs": [],
   "source": []
  },
  {
   "cell_type": "code",
   "execution_count": null,
   "id": "7eb24b56",
   "metadata": {},
   "outputs": [],
   "source": []
  },
  {
   "cell_type": "code",
   "execution_count": null,
   "id": "3277f51a",
   "metadata": {},
   "outputs": [],
   "source": [
    "#errors & exception handling\n",
    "marks_1=88\n",
    "subject='Data science'\n",
    "marks_2=33\n",
    "\n",
    "try:\n",
    "    total=marks_1+subject\n",
    "    \n",
    "#print(overage)\n",
    "\n",
    "except TypeError:\n",
    "    print('You are adding integer to string. Make sure both data types are matching')\n",
    "    \n",
    "else:\n",
    "    print('Total marks= ',total)"
   ]
  },
  {
   "cell_type": "code",
   "execution_count": null,
   "id": "4949d46f",
   "metadata": {},
   "outputs": [],
   "source": []
  },
  {
   "cell_type": "code",
   "execution_count": null,
   "id": "1defa410",
   "metadata": {},
   "outputs": [],
   "source": []
  },
  {
   "cell_type": "code",
   "execution_count": null,
   "id": "181629ba",
   "metadata": {},
   "outputs": [],
   "source": []
  }
 ],
 "metadata": {
  "kernelspec": {
   "display_name": "Python 3 (ipykernel)",
   "language": "python",
   "name": "python3"
  },
  "language_info": {
   "codemirror_mode": {
    "name": "ipython",
    "version": 3
   },
   "file_extension": ".py",
   "mimetype": "text/x-python",
   "name": "python",
   "nbconvert_exporter": "python",
   "pygments_lexer": "ipython3",
   "version": "3.9.7"
  }
 },
 "nbformat": 4,
 "nbformat_minor": 5
}
