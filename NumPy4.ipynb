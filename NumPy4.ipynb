{
 "cells": [
  {
   "cell_type": "code",
   "execution_count": 4,
   "id": "03b3353b",
   "metadata": {},
   "outputs": [],
   "source": [
    "import numpy as np \n",
    "from numpy.random import randint as ri"
   ]
  },
  {
   "cell_type": "code",
   "execution_count": 8,
   "id": "a1a9c4ec",
   "metadata": {},
   "outputs": [
    {
     "name": "stdout",
     "output_type": "stream",
     "text": [
      "\n",
      " 1st Matrix of random single digit numbers\n",
      " [[7 6 4]\n",
      " [2 2 5]\n",
      " [5 4 2]]\n",
      "\n",
      " 2nd Matrix of random single digit numbers\n",
      " [[9 9 8]\n",
      " [6 3 6]\n",
      " [6 7 4]]\n"
     ]
    }
   ],
   "source": [
    "mat1=np.array(ri(1,10,9)).reshape(3,3)   #Universal Functions\n",
    "mat2=np.array(ri(1,10,9)).reshape(3,3)\n",
    "\n",
    "print(\"\\n 1st Matrix of random single digit numbers\\n\", mat1)\n",
    "print(\"\\n 2nd Matrix of random single digit numbers\\n\", mat2)"
   ]
  },
  {
   "cell_type": "code",
   "execution_count": 6,
   "id": "d122019d",
   "metadata": {},
   "outputs": [
    {
     "name": "stdout",
     "output_type": "stream",
     "text": [
      "\n",
      " Addition\n",
      "-----------------\n",
      " [[16 10 12]\n",
      " [15  4 13]\n",
      " [11  8  7]]\n",
      "\n",
      " Multiplication\n",
      "------------------\n",
      " [[64 21 32]\n",
      " [54  4 42]\n",
      " [18 16 10]]\n"
     ]
    }
   ],
   "source": [
    "print(\"\\n Addition\\n-----------------\\n\",mat1+mat2)\n",
    "print(\"\\n Multiplication\\n------------------\\n\",mat1*mat2)"
   ]
  },
  {
   "cell_type": "code",
   "execution_count": 9,
   "id": "4a842553",
   "metadata": {},
   "outputs": [
    {
     "name": "stdout",
     "output_type": "stream",
     "text": [
      "mat1=\n",
      " [[7 6 4]\n",
      " [2 2 5]\n",
      " [5 4 2]]\n",
      "mat2=\n",
      " [[9 9 8]\n",
      " [6 3 6]\n",
      " [6 7 4]]\n"
     ]
    }
   ],
   "source": [
    "print('mat1=\\n',mat1)\n",
    "print('mat2=\\n',mat2)"
   ]
  },
  {
   "cell_type": "code",
   "execution_count": 10,
   "id": "9e9119c1",
   "metadata": {},
   "outputs": [
    {
     "name": "stdout",
     "output_type": "stream",
     "text": [
      "\n",
      " Division \n",
      "-------------------\n",
      " [[0.77777778 0.66666667 0.5       ]\n",
      " [0.33333333 0.66666667 0.83333333]\n",
      " [0.83333333 0.57142857 0.5       ]]\n",
      "\n",
      " Linear combination:3*A-2*B \n",
      "--------------------\n",
      " [[ 3  0 -4]\n",
      " [-6  0  3]\n",
      " [ 3 -2 -2]]\n"
     ]
    }
   ],
   "source": [
    "print(\"\\n Division \\n-------------------\\n\",mat1/mat2)\n",
    "print(\"\\n Linear combination:3*A-2*B \\n--------------------\\n\",3*mat1-2*mat2)"
   ]
  },
  {
   "cell_type": "code",
   "execution_count": null,
   "id": "79bad27f",
   "metadata": {},
   "outputs": [],
   "source": []
  }
 ],
 "metadata": {
  "kernelspec": {
   "display_name": "Python 3 (ipykernel)",
   "language": "python",
   "name": "python3"
  },
  "language_info": {
   "codemirror_mode": {
    "name": "ipython",
    "version": 3
   },
   "file_extension": ".py",
   "mimetype": "text/x-python",
   "name": "python",
   "nbconvert_exporter": "python",
   "pygments_lexer": "ipython3",
   "version": "3.9.7"
  }
 },
 "nbformat": 4,
 "nbformat_minor": 5
}
